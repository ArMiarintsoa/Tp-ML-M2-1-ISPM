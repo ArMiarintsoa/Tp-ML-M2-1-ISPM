{
  "nbformat": 4,
  "nbformat_minor": 0,
  "metadata": {
    "colab": {
      "provenance": []
    },
    "kernelspec": {
      "name": "python3",
      "display_name": "Python 3"
    },
    "language_info": {
      "name": "python"
    }
  },
  "cells": [
    {
      "cell_type": "code",
      "execution_count": 17,
      "metadata": {
        "id": "_VTu0eym4FuI",
        "outputId": "4c7bb18e-5d1a-4f09-e449-0a242675d101",
        "colab": {
          "base_uri": "https://localhost:8080/"
        }
      },
      "outputs": [
        {
          "output_type": "stream",
          "name": "stdout",
          "text": [
            "Mounted at /content/drive\n"
          ]
        }
      ],
      "source": [
        "from google.colab import drive\n",
        "drive.mount('/content/drive')"
      ]
    },
    {
      "cell_type": "code",
      "source": [
        "!git clone https://github.com/ArMiarintsoa/Tp-ML-M2-1-ISPM.git /content/drive/MyDrive/ProjetML"
      ],
      "metadata": {
        "id": "4yaZ05AbmTjx",
        "outputId": "4e7073fd-61e1-4acf-d6b6-e5f49c2f5f8f",
        "colab": {
          "base_uri": "https://localhost:8080/"
        }
      },
      "execution_count": 18,
      "outputs": [
        {
          "output_type": "stream",
          "name": "stdout",
          "text": [
            "Cloning into '/content/drive/MyDrive/ProjetML'...\n",
            "remote: Enumerating objects: 33, done.\u001b[K\n",
            "remote: Counting objects: 100% (33/33), done.\u001b[K\n",
            "remote: Compressing objects: 100% (31/31), done.\u001b[K\n",
            "remote: Total 33 (delta 16), reused 8 (delta 2), pack-reused 0 (from 0)\u001b[K\n",
            "Receiving objects: 100% (33/33), 560.16 KiB | 6.29 MiB/s, done.\n",
            "Resolving deltas: 100% (16/16), done.\n"
          ]
        }
      ]
    }
  ]
}
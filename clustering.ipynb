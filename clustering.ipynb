{
  "nbformat": 4,
  "nbformat_minor": 0,
  "metadata": {
    "colab": {
      "provenance": []
    },
    "kernelspec": {
      "name": "python3",
      "display_name": "Python 3"
    },
    "language_info": {
      "name": "python"
    }
  },
  "cells": [
    {
      "cell_type": "code",
      "execution_count": 3,
      "metadata": {
        "id": "1ogAf5ik4WYQ",
        "colab": {
          "base_uri": "https://localhost:8080/"
        },
        "outputId": "f0eda817-d5fb-4d67-cf8b-5a871f1f71d4"
      },
      "outputs": [
        {
          "output_type": "stream",
          "name": "stdout",
          "text": [
            "Miarintsoa \n",
            "Flavio \n",
            "Ivanstoff \n"
          ]
        }
      ],
      "source": [
        "members = [\"Miarintsoa\", \"Flavio\", \"Ivanstoff\"]\n",
        "for member in members:\n",
        "  print(member + \" \")"
      ]
    }
  ]
}
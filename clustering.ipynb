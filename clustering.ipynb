{
  "nbformat": 4,
  "nbformat_minor": 0,
  "metadata": {
    "colab": {
      "provenance": []
    },
    "kernelspec": {
      "name": "python3",
      "display_name": "Python 3"
    },
    "language_info": {
      "name": "python"
    }
  },
  "cells": [
    {
      "cell_type": "code",
      "execution_count": 1,
      "metadata": {
        "id": "1ogAf5ik4WYQ"
      },
      "outputs": [],
      "source": [
        "members = [\"Miarintsoa\", \"Flavio\", \"DatoaPR\"]\n",
        "for member in members:\n",
        "  print(member + \" \")"
      ]
    }
  ]
}